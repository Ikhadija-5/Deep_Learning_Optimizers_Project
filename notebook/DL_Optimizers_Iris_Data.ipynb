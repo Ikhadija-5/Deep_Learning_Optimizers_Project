{
  "nbformat": 4,
  "nbformat_minor": 0,
  "metadata": {
    "colab": {
      "name": "DL_Optimizers_Iris_Data.ipynb",
      "provenance": [],
      "collapsed_sections": []
    },
    "kernelspec": {
      "name": "python3",
      "display_name": "Python 3"
    },
    "language_info": {
      "name": "python"
    }
  },
  "cells": [
    {
      "cell_type": "code",
      "source": [
        "import numpy as np\n",
        "import pandas as pd\n",
        "import matplotlib.pyplot as plt\n",
        "from sklearn import datasets"
      ],
      "metadata": {
        "id": "ElGpyhc7XB_L"
      },
      "execution_count": 1,
      "outputs": []
    },
    {
      "cell_type": "code",
      "source": [
        "iris = datasets.load_iris()\n",
        "X= iris.data[:,:2]\n",
        "y = iris.target"
      ],
      "metadata": {
        "id": "kQm8JqPqmRhv"
      },
      "execution_count": 7,
      "outputs": []
    },
    {
      "cell_type": "code",
      "source": [
        "X_train = X[:120,:]\n",
        "X_test = X[120:,:]\n",
        "Y_train = y[:120]\n",
        "Y_test = y[120:]\n"
      ],
      "metadata": {
        "id": "dyr9QHqHnmFW"
      },
      "execution_count": 50,
      "outputs": []
    },
    {
      "cell_type": "code",
      "execution_count": 59,
      "metadata": {
        "id": "IInCmpz2Wqvm"
      },
      "outputs": [],
      "source": [
        "class RMS:\n",
        "\n",
        "  def __init__(self, lr, epoch):\n",
        "    self.lr = lr\n",
        "    self.epoch = epoch\n",
        "\n",
        "    self.theta = None\n",
        "\n",
        "\n",
        "  def add_ones(self,X):\n",
        "    #self.X = X\n",
        "    X_new = np.hstack([np.ones((X.shape[0], 1)), X])\n",
        "    return X_new\n",
        "\n",
        "  def compute_cost(self, X, y):\n",
        "    loss = (np.sum((X.dot(self.theta) - y) ** 2) )/ 2\n",
        "    return loss\n",
        "\n",
        "    \n",
        "  def fitRMS(self,X,y,decay_factor = 0.9,  eps=0.0000001):\n",
        "    m = len(y)\n",
        "    # X = self.add_ones(X.values)\n",
        "    self.theta = np.zeros(X.shape[1])\n",
        "    self.cost_history = np.zeros(self.epoch)\n",
        "\n",
        "    \n",
        "    E = [0 for _ in range(len(self.theta))]\n",
        "    for i in range(self.epoch):\n",
        "\n",
        "      # Update E and the model weights iteratively (Note: speed up could be gained from vectorized implementation)\n",
        "      for idx, gradient in enumerate(X.T @ (X @ self.theta - y)):    \n",
        "        E[idx] = decay_factor*E[idx] + (1 - decay_factor)*(gradient**2)\n",
        "        self.theta[idx] = self.theta[idx] - (self.lr/np.sqrt(E[idx] + eps))*gradient\n",
        "\n",
        "        self.cost_history[i] = self.compute_cost(X, y)\n",
        "\n",
        "    return self.theta, self.cost_history\n",
        "\n",
        "  def predict(self, X):\n",
        "    ypred = np.dot(X,self.theta)\n",
        "    return ypred\n",
        "    \n",
        "\n",
        "  def mse(self, y,yPred):\n",
        "    mse =  np.sum((yPred - y) ** 2 ) / 2\n",
        "    return mse\n",
        "\n",
        "  def Plot(self,loss_history):\n",
        "    plt.figure()\n",
        "    plt.plot(np.arange(self.epoch), loss_history, c='green')\n",
        "    plt.xlabel('Iterations')\n",
        "    plt.ylabel('Cost, ' + r'$J(\\theta)$')\n",
        "    return \n",
        "    \n",
        "  def accuracy(self,ytrue,ypred):\n",
        "    acc = np.sum(np.equal(ytrue,ypred)) / len(ytrue)\n",
        "    return acc\n"
      ]
    },
    {
      "cell_type": "code",
      "source": [
        "rms = RMS(1e-4,2000)"
      ],
      "metadata": {
        "id": "4-tnxv6hXvZi"
      },
      "execution_count": 215,
      "outputs": []
    },
    {
      "cell_type": "code",
      "source": [
        "_,loss_history1 = rms.fitRMS(X_train,Y_train)"
      ],
      "metadata": {
        "id": "QPUgksMUYTF3"
      },
      "execution_count": 216,
      "outputs": []
    },
    {
      "cell_type": "code",
      "source": [
        "rms.Plot(loss_history1)"
      ],
      "metadata": {
        "colab": {
          "base_uri": "https://localhost:8080/",
          "height": 300
        },
        "id": "63OnQFbVYdqS",
        "outputId": "99e8fc4b-6f2f-49e4-8251-4243aab97c4f"
      },
      "execution_count": 217,
      "outputs": [
        {
          "output_type": "display_data",
          "data": {
            "text/plain": [
              "<Figure size 432x288 with 1 Axes>"
            ],
            "image/png": "[encoded data removed]"
          },
          "metadata": {
            "needs_background": "light"
          }
        }
      ]
    },
    {
      "cell_type": "code",
      "source": [
        "class Adam:\n",
        "  def __init__(self, lr, epoch):\n",
        "    self.lr = lr\n",
        "    self.epoch = epoch\n",
        "\n",
        "    self.theta = None\n",
        "\n",
        "  def add_ones(self,X):\n",
        "    X_new = np.hstack([np.ones((X.shape[0], 1)), X])\n",
        "    return X_new\n",
        "\n",
        "  def compute_cost(self, X, y):\n",
        "    loss = float((np.sum((X.dot(self.theta) - y) ** 2) ))/ 2\n",
        "    return loss\n",
        "\n",
        "    \n",
        "  def fitAdam(self,X,y,b1 = 0.9, b2 = 0.999,  eps=0.0000001):\n",
        "    X = self.add_ones(X)\n",
        "    self.theta = np.zeros(X.shape[1])\n",
        "    self.cost_history = np.zeros(self.epoch)\n",
        "\n",
        "    \n",
        "    # Variable Initialization\n",
        "    num_param = len(self.theta)\n",
        "    m = [0 for _ in range(num_param)] # two m for each parameter\n",
        "    v = [0 for _ in range(num_param)] # two v for each parameter\n",
        "    g = [0 for _ in range(num_param)] # two gradient\n",
        "    \n",
        "    for t in range(1,self.epoch): \n",
        "      # Get the partial derivatives\n",
        "      g = (X.T @ (X @ self.theta - y))\n",
        "\n",
        "      # Update the m and v parameter\n",
        "      m = [b1*m_i + (1 - b1)*g_i for m_i, g_i in zip(m, g)]\n",
        "      v = [b2*v_i + (1 - b2)*(g_i**2) for v_i, g_i in zip(v, g)]\n",
        "\n",
        "      # Bias correction for m and v\n",
        "      m_cor = [m_i / (1 - (b1**t)) for m_i in m]\n",
        "      v_cor = [v_i / (1 - (b2**t)) for v_i in v]\n",
        "\n",
        "      # Update the parameter\n",
        "      self.theta = [theta - (self.lr / (np.sqrt(v_cor_i) + eps))*m_cor_i for theta, v_cor_i, m_cor_i in zip(self.theta, v_cor, m_cor)]\n",
        "      \n",
        "      self.cost_history[t] = self.compute_cost(X, y)\n",
        "\n",
        "    return self.theta, self.cost_history\n",
        "\n",
        "\n",
        "  \n",
        "\n",
        "  def predict(self, X):\n",
        "    X = self.add_ones(X)\n",
        "    ypred = np.dot(X,self.theta)\n",
        "    return ypred\n",
        "    \n",
        "\n",
        "  def mse(self, y,yPred):\n",
        "    mse =  np.sum((yPred - y) ** 2 ) / 2\n",
        "    return mse\n",
        "\n",
        "  def Plot(self,loss_history):\n",
        "    plt.figure()\n",
        "    plt.plot(np.arange(self.epoch), loss_history, c='green')\n",
        "    plt.xlabel('Iterations')\n",
        "    plt.ylabel('Cost, ' + r'$J(\\theta)$')\n",
        "    return \n",
        "  \n",
        "  def accuracy(self,ytrue,ypred):\n",
        "    acc = np.sum(np.equal(ytrue,ypred)) / len(ytrue)\n",
        "    return acc\n"
      ],
      "metadata": {
        "id": "x3Ghdic6Ynu8"
      },
      "execution_count": 171,
      "outputs": []
    },
    {
      "cell_type": "code",
      "source": [
        "adam = Adam(1e-4,2000)"
      ],
      "metadata": {
        "id": "dnYlyJJMddsD"
      },
      "execution_count": 212,
      "outputs": []
    },
    {
      "cell_type": "code",
      "source": [
        "_,loss_history2 = adam.fitAdam(X_train,Y_train)"
      ],
      "metadata": {
        "id": "FgK01rtQdi7v"
      },
      "execution_count": 213,
      "outputs": []
    },
    {
      "cell_type": "code",
      "source": [
        "adam.Plot(loss_history2)"
      ],
      "metadata": {
        "colab": {
          "base_uri": "https://localhost:8080/",
          "height": 300
        },
        "id": "ybP0QRThd0wG",
        "outputId": "be79e577-3090-4372-9ff6-d88ca681c51f"
      },
      "execution_count": 214,
      "outputs": [
        {
          "output_type": "display_data",
          "data": {
            "text/plain": [
              "<Figure size 432x288 with 1 Axes>"
            ],
            "image/png": "[encoded data removed]"
          },
          "metadata": {
            "needs_background": "light"
          }
        }
      ]
    },
    {
      "cell_type": "code",
      "source": [
        "class Adagrad:\n",
        "  def __init__(self, lr, epoch):\n",
        "    self.lr = lr\n",
        "    self.epoch = epoch\n",
        "\n",
        "    self.theta = None\n",
        "  \n",
        "\n",
        "  def add_ones(self,X):\n",
        "    X_new = np.hstack([np.ones((X.shape[0], 1)), X])\n",
        "    return X_new\n",
        "\n",
        "  def compute_cost(self, X, y):\n",
        "    loss = float((np.sum((X.dot(self.theta) - y) ** 2) ))/ 2\n",
        "    return loss\n",
        "\n",
        "    \n",
        "            \n",
        "  def fitadagrad(self,X, y, eps=0.0000001):\n",
        "    m = len(y)\n",
        "    X = self.add_ones(X)\n",
        "    self.theta = np.zeros(X.shape[1])\n",
        "    self.cost_history = np.zeros(self.epoch)\n",
        "    \n",
        "    # Here only the diagonal matter\n",
        "    num_param = len(self.theta)\n",
        "    G = [[0 for _ in range(num_param)] for _ in range(num_param)]\n",
        "    \n",
        "    for i in range(self.epoch):\n",
        "        # Update G and the model weights iteratively (Note: speed up could be gained from vectorized implementation)\n",
        "        for idx, gradient in enumerate((X.T @ (X @ self.theta - y))):\n",
        "            G[idx][idx] = G[idx][idx] + gradient**2\n",
        "            self.theta[idx] = self.theta[idx] - (self.lr / np.sqrt(G[idx][idx] + eps)) * gradient\n",
        "      \n",
        "        self.cost_history[i] = self.compute_cost(X, y)\n",
        "\n",
        "    return self.theta, self.cost_history\n",
        "\n",
        "\n",
        "  def predict(self, X,theta):\n",
        "    X = self.add_ones(X)\n",
        "    ypred = np.dot(X,self.theta)\n",
        "    return ypred\n",
        "    \n",
        "\n",
        "  def mse(self, y,yPred):\n",
        "    mse =  np.sum((yPred - y) ** 2 ) / 2\n",
        "    return mse\n",
        "\n",
        "  def Plot(self,loss_history):\n",
        "    plt.figure()\n",
        "    plt.plot(np.arange(self.epoch), loss_history, c='green')\n",
        "    plt.xlabel('Iterations')\n",
        "    plt.ylabel\n",
        "\n",
        "  def accuracy(self,ytrue,ypred):\n",
        "    acc = np.sum(np.equal(ytrue,ypred)) / len(ytrue)\n",
        "    return acc\n"
      ],
      "metadata": {
        "id": "QNIh-XA0eXBe"
      },
      "execution_count": 99,
      "outputs": []
    },
    {
      "cell_type": "code",
      "source": [
        "adagrad = Adagrad(1e-4,2000)"
      ],
      "metadata": {
        "id": "GR2Zn-mwedZl"
      },
      "execution_count": 209,
      "outputs": []
    },
    {
      "cell_type": "code",
      "source": [
        "theta,loss_history3 = adagrad.fitadagrad(X_train,Y_train)"
      ],
      "metadata": {
        "id": "U2Bftbdmei5k"
      },
      "execution_count": 210,
      "outputs": []
    },
    {
      "cell_type": "code",
      "source": [
        "adagrad.Plot(loss_history3)"
      ],
      "metadata": {
        "colab": {
          "base_uri": "https://localhost:8080/",
          "height": 300
        },
        "id": "PuHyk_lWerjP",
        "outputId": "5e3b1c18-9b49-4032-c7a4-578c5b83013a"
      },
      "execution_count": 211,
      "outputs": [
        {
          "output_type": "display_data",
          "data": {
            "text/plain": [
              "<Figure size 432x288 with 1 Axes>"
            ],
            "image/png": "[encoded data removed]"
          },
          "metadata": {
            "needs_background": "light"
          }
        }
      ]
    },
    {
      "cell_type": "code",
      "source": [
        "class Adadelta:\n",
        "  def __init__(self, lr, epoch):\n",
        "    self.lr = lr\n",
        "    self.epoch = epoch\n",
        "\n",
        "    self.theta = None\n",
        "\n",
        "  \n",
        "\n",
        "  def add_ones(self,X):\n",
        "    X_new = np.hstack([np.ones((X.shape[0], 1)), X])\n",
        "    return X_new\n",
        "\n",
        "  def compute_cost(self, X, y):\n",
        "    loss = float((np.sum((X.dot(self.theta) - y) ** 2) ))/ 2\n",
        "    return loss\n",
        "\n",
        "    \n",
        "            \n",
        "  def fitadadelta(self, X, y, decay_factor = 0.9, eps=0.0000001):\n",
        "    X = self.add_ones(X)\n",
        "    self.theta = np.zeros(X.shape[1])\n",
        "    self.cost_history = np.zeros(self.epoch)        \n",
        "      \n",
        "    # Init Running Averages\n",
        "    num_param = len(self.theta)\n",
        "    E_g = [0 for _ in range(num_param)]\n",
        "    E_p = [0 for _ in range(num_param)]\n",
        "    delta_p = [0 for _ in range(num_param)]\n",
        "    \n",
        "    \n",
        "    for i in range(self.epoch):\n",
        "      for idx, gradient in enumerate((X.T @ (X @ self.theta - y))):\n",
        "        # Get the running average for the gradient\n",
        "        E_g[idx] = decay_factor*E_g[idx] + (1 - decay_factor)*(gradient**2)\n",
        "        \n",
        "        # Get the running average for the parameters\n",
        "        E_p[idx] = decay_factor*E_p[idx] + ((1 - decay_factor)*(delta_p[idx]**2))\n",
        "        \n",
        "        # Calculate the gradient difference\n",
        "        delta_p[idx] = - np.sqrt(E_p[idx] + eps) / np.sqrt(E_g[idx] + eps) * gradient\n",
        "        \n",
        "        # update the model weight\n",
        "        self.theta[idx] = self.theta[idx] + delta_p[idx]\n",
        "\n",
        "        self.cost_history[i] = self.compute_cost(X, y)\n",
        "\n",
        "    return self.theta, self.cost_history\n",
        "\n",
        "  def predict(self, X):\n",
        "    X = self.add_ones(X)\n",
        "    ypred = np.dot(X,self.theta)\n",
        "    return ypred\n",
        "    \n",
        "\n",
        "  def mse(self, y,yPred):\n",
        "    mse =  np.sum((yPred - y) ** 2 ) / 2\n",
        "    return mse\n",
        "\n",
        "  def Plot(self,loss_history):\n",
        "    plt.figure()\n",
        "    plt.plot(np.arange(self.epoch), loss_history, c='green')\n",
        "    plt.xlabel('Iterations')\n",
        "    plt.ylabel"
      ],
      "metadata": {
        "id": "oB29dwK7e4JA"
      },
      "execution_count": 111,
      "outputs": []
    },
    {
      "cell_type": "code",
      "source": [
        "adadelta = Adadelta(1e-4, 2000)"
      ],
      "metadata": {
        "id": "KHbUhy2Oe85p"
      },
      "execution_count": 206,
      "outputs": []
    },
    {
      "cell_type": "code",
      "source": [
        "_,loss_history4 = adadelta.fitadadelta(X_train,Y_train)"
      ],
      "metadata": {
        "id": "Cbk3zeX7fH8T"
      },
      "execution_count": 207,
      "outputs": []
    },
    {
      "cell_type": "code",
      "source": [
        "adadelta.Plot(loss_history4)"
      ],
      "metadata": {
        "colab": {
          "base_uri": "https://localhost:8080/",
          "height": 300
        },
        "id": "eMp_IPnIfSA9",
        "outputId": "84c68c5b-9f41-409c-dd55-63e54e5e7de0"
      },
      "execution_count": 208,
      "outputs": [
        {
          "output_type": "display_data",
          "data": {
            "text/plain": [
              "<Figure size 432x288 with 1 Axes>"
            ],
            "image/png": "[encoded data removed]"
          },
          "metadata": {
            "needs_background": "light"
          }
        }
      ]
    },
    {
      "cell_type": "code",
      "source": [
        "class Momentum:\n",
        "  def __init__(self, lr, epoch):\n",
        "    self.lr = lr\n",
        "    self.epoch = epoch\n",
        "\n",
        "    self.theta = None\n",
        "\n",
        "  \n",
        "\n",
        "  def add_ones(self,X):\n",
        "    X_new = np.hstack([np.ones((X.shape[0], 1)), X])\n",
        "    return X_new\n",
        "\n",
        "  def compute_cost(self, X, y):\n",
        "    loss =((np.sum((X.dot(self.theta) - y) ** 2) ))/ 2\n",
        "    return loss\n",
        "\n",
        "    \n",
        "            \n",
        "  def fitmomentun(self, X, y, decay_factor = 0.9):\n",
        "    X = self.add_ones(X)\n",
        "    self.theta = np.zeros(X.shape[1])\n",
        "    self.cost_history = np.zeros(self.epoch)       \n",
        "\n",
        "    gradients = [0 for _ in range(len(self.theta))]\n",
        "    \n",
        "    for i in range(self.epoch):\n",
        "\n",
        "        # Calculate the new gradients\n",
        "        gradients = [(decay_factor * g) + (self.lr * derivative) for g, derivative in zip(gradients, (X.T @ (X @ self.theta - y)))]\n",
        "        \n",
        "        # Updating the model parameters\n",
        "        self.theta = [theta - g for theta, g in zip(self.theta, gradients)]\n",
        "\n",
        "        self.cost_history[i] = self.compute_cost(X, y)\n",
        "\n",
        "    return self.theta, self.cost_history\n",
        "\n",
        "  def predict(self, X):\n",
        "    X = self.add_ones(X)\n",
        "    ypred = np.dot(X,self.theta)\n",
        "    return ypred\n",
        "    \n",
        "\n",
        "  def mse(self, y,yPred):\n",
        "    mse =  np.sum((yPred - y) ** 2 ) / 2\n",
        "    return mse\n",
        "\n",
        "  def Plot(self,loss_history):\n",
        "    plt.figure()\n",
        "    plt.plot(np.arange(self.epoch), loss_history, c='green')\n",
        "    plt.xlabel('Iterations')\n",
        "    plt.ylabel\n",
        "\n",
        "\n",
        "\n",
        "  def accuracy(self,ytrue,ypred):\n",
        "    acc = np.sum(np.equal(ytrue,ypred)) / len(ytrue)\n",
        "    return acc\n",
        "\n",
        "\n",
        "\n",
        "\n"
      ],
      "metadata": {
        "id": "fkmGEN2Pp8a5"
      },
      "execution_count": 121,
      "outputs": []
    },
    {
      "cell_type": "code",
      "source": [
        "moment = Momentum(1e-4,2000)"
      ],
      "metadata": {
        "id": "CHp6vMDNBQ0_"
      },
      "execution_count": 203,
      "outputs": []
    },
    {
      "cell_type": "code",
      "source": [
        "_,loss_history5 = moment.fitmomentun(X_train, Y_train)"
      ],
      "metadata": {
        "id": "4K99s3jNBYfK"
      },
      "execution_count": 204,
      "outputs": []
    },
    {
      "cell_type": "code",
      "source": [
        "moment.Plot(loss_history5)"
      ],
      "metadata": {
        "colab": {
          "base_uri": "https://localhost:8080/",
          "height": 300
        },
        "id": "OACw8_u7B7er",
        "outputId": "701947f3-1b48-4192-db78-9353805b6fb5"
      },
      "execution_count": 205,
      "outputs": [
        {
          "output_type": "display_data",
          "data": {
            "text/plain": [
              "<Figure size 432x288 with 1 Axes>"
            ],
            "image/png": "[encoded data removed]"
          },
          "metadata": {
            "needs_background": "light"
          }
        }
      ]
    },
    {
      "cell_type": "code",
      "source": [
        "epochs = np.arange(2000)\n",
        "plt.plot(epochs, loss_history1, label = \"RMSProp\")\n",
        "plt.plot(epochs, loss_history2, label = \"Adam\")\n",
        "plt.plot(epochs, loss_history3, label = \"Adagrad\")\n",
        "plt.plot(epochs, loss_history4, label = \"Adadelta\")\n",
        "plt.plot(epochs, loss_history5, label = \"Momentum\")\n",
        "plt.legend()\n",
        "plt.show()"
      ],
      "metadata": {
        "colab": {
          "base_uri": "https://localhost:8080/",
          "height": 286
        },
        "id": "3PeWUocyfdMd",
        "outputId": "426596d0-310d-41f9-8900-eb80a4df934d"
      },
      "execution_count": 218,
      "outputs": [
        {
          "output_type": "display_data",
          "data": {
            "text/plain": [
              "<Figure size 432x288 with 1 Axes>"
            ],
            "image/png": "[encoded data removed]"
          },
          "metadata": {
            "needs_background": "light"
          }
        }
      ]
    },
    {
      "cell_type": "code",
      "source": [
        ""
      ],
      "metadata": {
        "id": "9nEj_S_EOud8"
      },
      "execution_count": null,
      "outputs": []
    }
  ]
}