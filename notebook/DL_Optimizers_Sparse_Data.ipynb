{
  "nbformat": 4,
  "nbformat_minor": 0,
  "metadata": {
    "colab": {
      "name": "DL_Optimizers_Sparse_Data.ipynb",
      "provenance": [],
      "collapsed_sections": []
    },
    "kernelspec": {
      "name": "python3",
      "display_name": "Python 3"
    },
    "language_info": {
      "name": "python"
    }
  },
  "cells": [
    {
      "cell_type": "code",
      "source": [
        "import numpy as np\n",
        "import pandas as pd\n",
        "import matplotlib.pyplot as plt\n"
      ],
      "metadata": {
        "id": "ElGpyhc7XB_L"
      },
      "execution_count": 2,
      "outputs": []
    },
    {
      "cell_type": "code",
      "source": [
        "data = pd.read_excel('/content/data.xlsx')\n",
        "data.head(5)"
      ],
      "metadata": {
        "colab": {
          "base_uri": "https://localhost:8080/",
          "height": 221
        },
        "id": "f20bKdSZXJY5",
        "outputId": "fe85a9cf-fd38-47f2-df81-51c9c02334b2"
      },
      "execution_count": 116,
      "outputs": [
        {
          "output_type": "execute_result",
          "data": {
            "text/plain": [
              "      X1     X2       X3     X4       Y\n",
              "0  14.96  41.76  1024.07  73.17  463.26\n",
              "1  25.18  62.96  1020.04  59.08  444.37\n",
              "2   5.11  39.40  1012.16  92.14  488.56\n",
              "3  20.86  57.32  1010.24  76.64  446.48\n",
              "4  10.82  37.50  1009.23  96.62  473.90"
            ],
            "text/html": [
              "\n",
              "  <div id=\"df-d0de1197-5cd1-4d5f-a8fb-494e21aac327\">\n",
              "    <div class=\"colab-df-container\">\n",
              "      <div>\n",
              "<style scoped>\n",
              "    .dataframe tbody tr th:only-of-type {\n",
              "        vertical-align: middle;\n",
              "    }\n",
              "\n",
              "    .dataframe tbody tr th {\n",
              "        vertical-align: top;\n",
              "    }\n",
              "\n",
              "    .dataframe thead th {\n",
              "        text-align: right;\n",
              "    }\n",
              "</style>\n",
              "<table border=\"1\" class=\"dataframe\">\n",
              "  <thead>\n",
              "    <tr style=\"text-align: right;\">\n",
              "      <th></th>\n",
              "      <th>X1</th>\n",
              "      <th>X2</th>\n",
              "      <th>X3</th>\n",
              "      <th>X4</th>\n",
              "      <th>Y</th>\n",
              "    </tr>\n",
              "  </thead>\n",
              "  <tbody>\n",
              "    <tr>\n",
              "      <th>0</th>\n",
              "      <td>14.96</td>\n",
              "      <td>41.76</td>\n",
              "      <td>1024.07</td>\n",
              "      <td>73.17</td>\n",
              "      <td>463.26</td>\n",
              "    </tr>\n",
              "    <tr>\n",
              "      <th>1</th>\n",
              "      <td>25.18</td>\n",
              "      <td>62.96</td>\n",
              "      <td>1020.04</td>\n",
              "      <td>59.08</td>\n",
              "      <td>444.37</td>\n",
              "    </tr>\n",
              "    <tr>\n",
              "      <th>2</th>\n",
              "      <td>5.11</td>\n",
              "      <td>39.40</td>\n",
              "      <td>1012.16</td>\n",
              "      <td>92.14</td>\n",
              "      <td>488.56</td>\n",
              "    </tr>\n",
              "    <tr>\n",
              "      <th>3</th>\n",
              "      <td>20.86</td>\n",
              "      <td>57.32</td>\n",
              "      <td>1010.24</td>\n",
              "      <td>76.64</td>\n",
              "      <td>446.48</td>\n",
              "    </tr>\n",
              "    <tr>\n",
              "      <th>4</th>\n",
              "      <td>10.82</td>\n",
              "      <td>37.50</td>\n",
              "      <td>1009.23</td>\n",
              "      <td>96.62</td>\n",
              "      <td>473.90</td>\n",
              "    </tr>\n",
              "  </tbody>\n",
              "</table>\n",
              "</div>\n",
              "      <button class=\"colab-df-convert\" onclick=\"convertToInteractive('df-d0de1197-5cd1-4d5f-a8fb-494e21aac327')\"\n",
              "              title=\"Convert this dataframe to an interactive table.\"\n",
              "              style=\"display:none;\">\n",
              "        \n",
              "  <svg xmlns=\"http://www.w3.org/2000/svg\" height=\"24px\"viewBox=\"0 0 24 24\"\n",
              "       width=\"24px\">\n",
              "    <path d=\"M0 0h24v24H0V0z\" fill=\"none\"/>\n",
              "    <path d=\"M18.56 5.44l.94 2.06.94-2.06 2.06-.94-2.06-.94-.94-2.06-.94 2.06-2.06.94zm-11 1L8.5 8.5l.94-2.06 2.06-.94-2.06-.94L8.5 2.5l-.94 2.06-2.06.94zm10 10l.94 2.06.94-2.06 2.06-.94-2.06-.94-.94-2.06-.94 2.06-2.06.94z\"/><path d=\"M17.41 7.96l-1.37-1.37c-.4-.4-.92-.59-1.43-.59-.52 0-1.04.2-1.43.59L10.3 9.45l-7.72 7.72c-.78.78-.78 2.05 0 2.83L4 21.41c.39.39.9.59 1.41.59.51 0 1.02-.2 1.41-.59l7.78-7.78 2.81-2.81c.8-.78.8-2.07 0-2.86zM5.41 20L4 18.59l7.72-7.72 1.47 1.35L5.41 20z\"/>\n",
              "  </svg>\n",
              "      </button>\n",
              "      \n",
              "  <style>\n",
              "    .colab-df-container {\n",
              "      display:flex;\n",
              "      flex-wrap:wrap;\n",
              "      gap: 12px;\n",
              "    }\n",
              "\n",
              "    .colab-df-convert {\n",
              "      background-color: #E8F0FE;\n",
              "      border: none;\n",
              "      border-radius: 50%;\n",
              "      cursor: pointer;\n",
              "      display: none;\n",
              "      fill: #1967D2;\n",
              "      height: 32px;\n",
              "      padding: 0 0 0 0;\n",
              "      width: 32px;\n",
              "    }\n",
              "\n",
              "    .colab-df-convert:hover {\n",
              "      background-color: #E2EBFA;\n",
              "      box-shadow: 0px 1px 2px rgba(60, 64, 67, 0.3), 0px 1px 3px 1px rgba(60, 64, 67, 0.15);\n",
              "      fill: #174EA6;\n",
              "    }\n",
              "\n",
              "    [theme=dark] .colab-df-convert {\n",
              "      background-color: #3B4455;\n",
              "      fill: #D2E3FC;\n",
              "    }\n",
              "\n",
              "    [theme=dark] .colab-df-convert:hover {\n",
              "      background-color: #434B5C;\n",
              "      box-shadow: 0px 1px 3px 1px rgba(0, 0, 0, 0.15);\n",
              "      filter: drop-shadow(0px 1px 2px rgba(0, 0, 0, 0.3));\n",
              "      fill: #FFFFFF;\n",
              "    }\n",
              "  </style>\n",
              "\n",
              "      <script>\n",
              "        const buttonEl =\n",
              "          document.querySelector('#df-d0de1197-5cd1-4d5f-a8fb-494e21aac327 button.colab-df-convert');\n",
              "        buttonEl.style.display =\n",
              "          google.colab.kernel.accessAllowed ? 'block' : 'none';\n",
              "\n",
              "        async function convertToInteractive(key) {\n",
              "          const element = document.querySelector('#df-d0de1197-5cd1-4d5f-a8fb-494e21aac327');\n",
              "          const dataTable =\n",
              "            await google.colab.kernel.invokeFunction('convertToInteractive',\n",
              "                                                     [key], {});\n",
              "          if (!dataTable) return;\n",
              "\n",
              "          const docLinkHtml = 'Like what you see? Visit the ' +\n",
              "            '<a target=\"_blank\" href=https://colab.research.google.com/notebooks/data_table.ipynb>data table notebook</a>'\n",
              "            + ' to learn more about interactive tables.';\n",
              "          element.innerHTML = '';\n",
              "          dataTable['output_type'] = 'display_data';\n",
              "          await google.colab.output.renderOutput(dataTable, element);\n",
              "          const docLink = document.createElement('div');\n",
              "          docLink.innerHTML = docLinkHtml;\n",
              "          element.appendChild(docLink);\n",
              "        }\n",
              "      </script>\n",
              "    </div>\n",
              "  </div>\n",
              "  "
            ]
          },
          "metadata": {},
          "execution_count": 116
        }
      ]
    },
    {
      "cell_type": "code",
      "source": [
        "def feature_standard(data):\n",
        "    data_Scaled = (data - np.mean(data, axis = 0)) / np.std(data, axis = 0)\n",
        "\n",
        "    return data_Scaled"
      ],
      "metadata": {
        "id": "BE8NPP_mXjbK"
      },
      "execution_count": 117,
      "outputs": []
    },
    {
      "cell_type": "code",
      "source": [
        "data.iloc[:, :-1] = feature_standard(data.iloc[:,:-1])\n",
        "data.head()"
      ],
      "metadata": {
        "colab": {
          "base_uri": "https://localhost:8080/",
          "height": 221
        },
        "id": "0BOJecyMXmNE",
        "outputId": "ef709760-fee3-435d-c21e-a0b8dd6b3b51"
      },
      "execution_count": 118,
      "outputs": [
        {
          "output_type": "execute_result",
          "data": {
            "text/plain": [
              "         X1        X2        X3        X4       Y\n",
              "0 -0.629519 -0.987297  1.820488 -0.009519  463.26\n",
              "1  0.741909  0.681045  1.141863 -0.974621  444.37\n",
              "2 -1.951297 -1.173018 -0.185078  1.289840  488.56\n",
              "3  0.162205  0.237203 -0.508393  0.228160  446.48\n",
              "4 -1.185069 -1.322539 -0.678470  1.596699  473.90"
            ],
            "text/html": [
              "\n",
              "  <div id=\"df-46c0d5bc-eb9c-4e11-a301-e368e8764caf\">\n",
              "    <div class=\"colab-df-container\">\n",
              "      <div>\n",
              "<style scoped>\n",
              "    .dataframe tbody tr th:only-of-type {\n",
              "        vertical-align: middle;\n",
              "    }\n",
              "\n",
              "    .dataframe tbody tr th {\n",
              "        vertical-align: top;\n",
              "    }\n",
              "\n",
              "    .dataframe thead th {\n",
              "        text-align: right;\n",
              "    }\n",
              "</style>\n",
              "<table border=\"1\" class=\"dataframe\">\n",
              "  <thead>\n",
              "    <tr style=\"text-align: right;\">\n",
              "      <th></th>\n",
              "      <th>X1</th>\n",
              "      <th>X2</th>\n",
              "      <th>X3</th>\n",
              "      <th>X4</th>\n",
              "      <th>Y</th>\n",
              "    </tr>\n",
              "  </thead>\n",
              "  <tbody>\n",
              "    <tr>\n",
              "      <th>0</th>\n",
              "      <td>-0.629519</td>\n",
              "      <td>-0.987297</td>\n",
              "      <td>1.820488</td>\n",
              "      <td>-0.009519</td>\n",
              "      <td>463.26</td>\n",
              "    </tr>\n",
              "    <tr>\n",
              "      <th>1</th>\n",
              "      <td>0.741909</td>\n",
              "      <td>0.681045</td>\n",
              "      <td>1.141863</td>\n",
              "      <td>-0.974621</td>\n",
              "      <td>444.37</td>\n",
              "    </tr>\n",
              "    <tr>\n",
              "      <th>2</th>\n",
              "      <td>-1.951297</td>\n",
              "      <td>-1.173018</td>\n",
              "      <td>-0.185078</td>\n",
              "      <td>1.289840</td>\n",
              "      <td>488.56</td>\n",
              "    </tr>\n",
              "    <tr>\n",
              "      <th>3</th>\n",
              "      <td>0.162205</td>\n",
              "      <td>0.237203</td>\n",
              "      <td>-0.508393</td>\n",
              "      <td>0.228160</td>\n",
              "      <td>446.48</td>\n",
              "    </tr>\n",
              "    <tr>\n",
              "      <th>4</th>\n",
              "      <td>-1.185069</td>\n",
              "      <td>-1.322539</td>\n",
              "      <td>-0.678470</td>\n",
              "      <td>1.596699</td>\n",
              "      <td>473.90</td>\n",
              "    </tr>\n",
              "  </tbody>\n",
              "</table>\n",
              "</div>\n",
              "      <button class=\"colab-df-convert\" onclick=\"convertToInteractive('df-46c0d5bc-eb9c-4e11-a301-e368e8764caf')\"\n",
              "              title=\"Convert this dataframe to an interactive table.\"\n",
              "              style=\"display:none;\">\n",
              "        \n",
              "  <svg xmlns=\"http://www.w3.org/2000/svg\" height=\"24px\"viewBox=\"0 0 24 24\"\n",
              "       width=\"24px\">\n",
              "    <path d=\"M0 0h24v24H0V0z\" fill=\"none\"/>\n",
              "    <path d=\"M18.56 5.44l.94 2.06.94-2.06 2.06-.94-2.06-.94-.94-2.06-.94 2.06-2.06.94zm-11 1L8.5 8.5l.94-2.06 2.06-.94-2.06-.94L8.5 2.5l-.94 2.06-2.06.94zm10 10l.94 2.06.94-2.06 2.06-.94-2.06-.94-.94-2.06-.94 2.06-2.06.94z\"/><path d=\"M17.41 7.96l-1.37-1.37c-.4-.4-.92-.59-1.43-.59-.52 0-1.04.2-1.43.59L10.3 9.45l-7.72 7.72c-.78.78-.78 2.05 0 2.83L4 21.41c.39.39.9.59 1.41.59.51 0 1.02-.2 1.41-.59l7.78-7.78 2.81-2.81c.8-.78.8-2.07 0-2.86zM5.41 20L4 18.59l7.72-7.72 1.47 1.35L5.41 20z\"/>\n",
              "  </svg>\n",
              "      </button>\n",
              "      \n",
              "  <style>\n",
              "    .colab-df-container {\n",
              "      display:flex;\n",
              "      flex-wrap:wrap;\n",
              "      gap: 12px;\n",
              "    }\n",
              "\n",
              "    .colab-df-convert {\n",
              "      background-color: #E8F0FE;\n",
              "      border: none;\n",
              "      border-radius: 50%;\n",
              "      cursor: pointer;\n",
              "      display: none;\n",
              "      fill: #1967D2;\n",
              "      height: 32px;\n",
              "      padding: 0 0 0 0;\n",
              "      width: 32px;\n",
              "    }\n",
              "\n",
              "    .colab-df-convert:hover {\n",
              "      background-color: #E2EBFA;\n",
              "      box-shadow: 0px 1px 2px rgba(60, 64, 67, 0.3), 0px 1px 3px 1px rgba(60, 64, 67, 0.15);\n",
              "      fill: #174EA6;\n",
              "    }\n",
              "\n",
              "    [theme=dark] .colab-df-convert {\n",
              "      background-color: #3B4455;\n",
              "      fill: #D2E3FC;\n",
              "    }\n",
              "\n",
              "    [theme=dark] .colab-df-convert:hover {\n",
              "      background-color: #434B5C;\n",
              "      box-shadow: 0px 1px 3px 1px rgba(0, 0, 0, 0.15);\n",
              "      filter: drop-shadow(0px 1px 2px rgba(0, 0, 0, 0.3));\n",
              "      fill: #FFFFFF;\n",
              "    }\n",
              "  </style>\n",
              "\n",
              "      <script>\n",
              "        const buttonEl =\n",
              "          document.querySelector('#df-46c0d5bc-eb9c-4e11-a301-e368e8764caf button.colab-df-convert');\n",
              "        buttonEl.style.display =\n",
              "          google.colab.kernel.accessAllowed ? 'block' : 'none';\n",
              "\n",
              "        async function convertToInteractive(key) {\n",
              "          const element = document.querySelector('#df-46c0d5bc-eb9c-4e11-a301-e368e8764caf');\n",
              "          const dataTable =\n",
              "            await google.colab.kernel.invokeFunction('convertToInteractive',\n",
              "                                                     [key], {});\n",
              "          if (!dataTable) return;\n",
              "\n",
              "          const docLinkHtml = 'Like what you see? Visit the ' +\n",
              "            '<a target=\"_blank\" href=https://colab.research.google.com/notebooks/data_table.ipynb>data table notebook</a>'\n",
              "            + ' to learn more about interactive tables.';\n",
              "          element.innerHTML = '';\n",
              "          dataTable['output_type'] = 'display_data';\n",
              "          await google.colab.output.renderOutput(dataTable, element);\n",
              "          const docLink = document.createElement('div');\n",
              "          docLink.innerHTML = docLinkHtml;\n",
              "          element.appendChild(docLink);\n",
              "        }\n",
              "      </script>\n",
              "    </div>\n",
              "  </div>\n",
              "  "
            ]
          },
          "metadata": {},
          "execution_count": 118
        }
      ]
    },
    {
      "cell_type": "code",
      "source": [
        "def split_data(df, train_percent):\n",
        "  np.random.seed(3)\n",
        "  perm = np.random.permutation(df.index)\n",
        "\n",
        "  n = len(df)\n",
        "  train_index = int(train_percent * n)\n",
        "\n",
        "  train = df.iloc[perm[:train_index]]\n",
        "  test = df.iloc[perm[train_index:]]\n",
        "\n",
        "  X_train = train.iloc[:, :-1]\n",
        "  Y_train = train.iloc[:, -1]\n",
        "\n",
        "  X_test = test.iloc[:, :-1]\n",
        "  Y_test = test.iloc[:, -1]\n",
        "\n",
        "  return X_train, X_test, Y_train, Y_test"
      ],
      "metadata": {
        "id": "eLI18Fx9dA4z"
      },
      "execution_count": 119,
      "outputs": []
    },
    {
      "cell_type": "code",
      "source": [
        "X_train, X_test, Y_train, Y_test = split_data(data,0.8)"
      ],
      "metadata": {
        "id": "j9fEV4m7dEjd"
      },
      "execution_count": 120,
      "outputs": []
    },
    {
      "cell_type": "code",
      "execution_count": 121,
      "metadata": {
        "id": "IInCmpz2Wqvm"
      },
      "outputs": [],
      "source": [
        "class RMS:\n",
        "\n",
        "  def __init__(self, lr, epoch):\n",
        "    self.lr = lr\n",
        "    self.epoch = epoch\n",
        "\n",
        "    self.theta = None\n",
        "\n",
        "\n",
        "  def add_ones(self,X):\n",
        "    X_new = np.hstack([np.ones((X.shape[0], 1)), X])\n",
        "    return X_new\n",
        "\n",
        "  def compute_cost(self, X, y):\n",
        "    loss = (np.sum((X.dot(self.theta) - y) ** 2) )/ 2\n",
        "    return loss\n",
        "\n",
        "    \n",
        "  def fitRMS(self,X,y,decay_factor = 0.9,  eps=0.0000001):\n",
        "    m = len(y)\n",
        "    X = self.add_ones(X.values)\n",
        "    self.theta = np.zeros(X.shape[1])\n",
        "    self.cost_history = np.zeros(self.epoch)\n",
        "\n",
        "    \n",
        "    E = [0 for _ in range(len(self.theta))]\n",
        "\n",
        "    for i in range(self.epoch):\n",
        "      # Update E and the model weights iteratively (Note: speed up could be gained from vectorized implementation)\n",
        "      for idx, gradient in enumerate(X.T @ (X @ self.theta - y)):    \n",
        "        E[idx] = decay_factor*E[idx] + (1 - decay_factor)*(gradient**2)\n",
        "        self.theta[idx] = self.theta[idx] - (self.lr/np.sqrt(E[idx] + eps))*gradient\n",
        "\n",
        "        self.cost_history[i] = self.compute_cost(X, y)\n",
        "\n",
        "    return self.theta, self.cost_history\n",
        "\n",
        "  def predict(self, X):\n",
        "    X = self.add_ones(X.values)\n",
        "    ypred = np.dot(X,self.theta)\n",
        "    return ypred\n",
        "    \n",
        "\n",
        "  def mse(self, y,yPred):\n",
        "    mse =  np.sum((yPred - y) ** 2 ) / 2\n",
        "    return mse\n",
        "\n",
        "  def Plot(self,loss_history):\n",
        "    plt.figure()\n",
        "    plt.plot(np.arange(self.epoch), loss_history, c='green')\n",
        "    plt.xlabel('Iterations')\n",
        "    plt.ylabel('Cost, ' + r'$J(\\theta)$')\n",
        "    return \n",
        "    \n",
        "  def accuracy(self,ytrue,ypred):\n",
        "    acc = np.sum(np.equal(ytrue,ypred)) / len(ytrue)\n",
        "    return acc\n"
      ]
    },
    {
      "cell_type": "code",
      "source": [
        "rms = RMS(0.9,2000)"
      ],
      "metadata": {
        "id": "4-tnxv6hXvZi"
      },
      "execution_count": 122,
      "outputs": []
    },
    {
      "cell_type": "code",
      "source": [
        "_,loss_history1 = rms.fitRMS(X_train,Y_train)"
      ],
      "metadata": {
        "id": "QPUgksMUYTF3"
      },
      "execution_count": 123,
      "outputs": []
    },
    {
      "cell_type": "code",
      "source": [
        "rms.Plot(loss_history1)"
      ],
      "metadata": {
        "colab": {
          "base_uri": "https://localhost:8080/",
          "height": 310
        },
        "id": "63OnQFbVYdqS",
        "outputId": "2d4103f3-1ca2-4e47-d164-e55afa628fc6"
      },
      "execution_count": 124,
      "outputs": [
        {
          "output_type": "display_data",
          "data": {
            "text/plain": [
              "<Figure size 432x288 with 1 Axes>"
            ],
            "image/png": "[encoded data removed]"
          },
          "metadata": {
            "needs_background": "light"
          }
        }
      ]
    },
    {
      "cell_type": "code",
      "source": [
        "class Adam:\n",
        "  def __init__(self, lr, epoch):\n",
        "    self.lr = lr\n",
        "    self.epoch = epoch\n",
        "\n",
        "    self.theta = None\n",
        "\n",
        "  def add_ones(self,X):\n",
        "    X_new = np.hstack([np.ones((X.shape[0], 1)), X])\n",
        "    return X_new\n",
        "\n",
        "  def compute_cost(self, X, y):\n",
        "    loss = float((np.sum((X.dot(self.theta) - y) ** 2) ))/ 2\n",
        "    return loss\n",
        "\n",
        "    \n",
        "  def fitAdam(self,X,y,b1 = 0.9, b2 = 0.999,  eps=0.0000001):\n",
        "    X = self.add_ones(X.values)\n",
        "    self.theta = np.zeros(X.shape[1])\n",
        "    self.cost_history = np.zeros(self.epoch)\n",
        "\n",
        "    \n",
        "    # Variable Initialization\n",
        "    num_param = len(self.theta)\n",
        "    m = [0 for _ in range(num_param)] \n",
        "    v = [0 for _ in range(num_param)] \n",
        "    g = [0 for _ in range(num_param)] \n",
        "    \n",
        "    for t in range(1,self.epoch): \n",
        "      # Getting the partial derivatives\n",
        "      g = (X.T @ (X @ self.theta - y))\n",
        "\n",
        "      # Update the m and v parameter\n",
        "      m = [b1*m_i + (1 - b1)*g_i for m_i, g_i in zip(m, g)]\n",
        "      v = [b2*v_i + (1 - b2)*(g_i**2) for v_i, g_i in zip(v, g)]\n",
        "\n",
        "      # Bias correction for m and v\n",
        "      m_cor = [m_i / (1 - (b1**t)) for m_i in m]\n",
        "      v_cor = [v_i / (1 - (b2**t)) for v_i in v]\n",
        "\n",
        "      # Update the parameter\n",
        "      self.theta = [theta - (self.lr / (np.sqrt(v_cor_i) + eps))*m_cor_i for theta, v_cor_i, m_cor_i in zip(self.theta, v_cor, m_cor)]\n",
        "      \n",
        "      self.cost_history[t] = self.compute_cost(X, y)\n",
        "\n",
        "    return self.theta, self.cost_history\n",
        "\n",
        "\n",
        "  \n",
        "\n",
        "  def predict(self, X):\n",
        "    X = self.add_ones(X.values)\n",
        "    ypred = np.dot(X,self.theta)\n",
        "    return ypred\n",
        "    \n",
        "\n",
        "  def mse(self, y,yPred):\n",
        "    mse =  np.sum((yPred - y) ** 2 ) / 2\n",
        "    return mse\n",
        "\n",
        "  def Plot(self,loss_history):\n",
        "    plt.figure()\n",
        "    plt.plot(np.arange(self.epoch), loss_history, c='green')\n",
        "    plt.xlabel('Iterations')\n",
        "    plt.ylabel('Cost, ' + r'$J(\\theta)$')\n",
        "    return \n",
        "  \n",
        "  def accuracy(self,ytrue,ypred):\n",
        "    acc = np.sum(np.equal(ytrue,ypred)) / len(ytrue)\n",
        "    return acc\n"
      ],
      "metadata": {
        "id": "x3Ghdic6Ynu8"
      },
      "execution_count": 149,
      "outputs": []
    },
    {
      "cell_type": "code",
      "source": [
        "adam = Adam(0.9,2000)"
      ],
      "metadata": {
        "id": "dnYlyJJMddsD"
      },
      "execution_count": 150,
      "outputs": []
    },
    {
      "cell_type": "code",
      "source": [
        "_,loss_history2 = adam.fitAdam(X_train,Y_train)"
      ],
      "metadata": {
        "id": "FgK01rtQdi7v"
      },
      "execution_count": 151,
      "outputs": []
    },
    {
      "cell_type": "code",
      "source": [
        "adam.Plot(loss_history2)"
      ],
      "metadata": {
        "colab": {
          "base_uri": "https://localhost:8080/",
          "height": 310
        },
        "id": "ybP0QRThd0wG",
        "outputId": "fe9b7f66-1c37-4d1c-bb4e-b1365277b84b"
      },
      "execution_count": 152,
      "outputs": [
        {
          "output_type": "display_data",
          "data": {
            "text/plain": [
              "<Figure size 432x288 with 1 Axes>"
            ],
            "image/png": "[encoded data removed]"
          },
          "metadata": {
            "needs_background": "light"
          }
        }
      ]
    },
    {
      "cell_type": "code",
      "source": [
        "class Adagrad:\n",
        "  def __init__(self, lr, epoch):\n",
        "    self.lr = lr\n",
        "    self.epoch = epoch\n",
        "\n",
        "    self.theta = None\n",
        "  \n",
        "\n",
        "  def add_ones(self,X):\n",
        "    X_new = np.hstack([np.ones((X.shape[0], 1)), X])\n",
        "    return X_new\n",
        "\n",
        "  def compute_cost(self, X, y):\n",
        "    loss = float((np.sum((X.dot(self.theta) - y) ** 2) ))/ 2\n",
        "    return loss\n",
        "\n",
        "    \n",
        "            \n",
        "  def fitadagrad(self,X, y, eps=0.0000001):\n",
        "    m = len(y)\n",
        "    X = self.add_ones(X.values)\n",
        "    self.theta = np.zeros(X.shape[1])\n",
        "    self.cost_history = np.zeros(self.epoch)\n",
        "    \n",
        "\n",
        "    num_param = len(self.theta)\n",
        "    G = [[0 for _ in range(num_param)] for _ in range(num_param)]\n",
        "    \n",
        "    for i in range(self.epoch):\n",
        "  \n",
        "        for idx, gradient in enumerate((X.T @ (X @ self.theta - y))):\n",
        "            G[idx][idx] = G[idx][idx] + gradient**2\n",
        "            self.theta[idx] = self.theta[idx] - (self.lr / np.sqrt(G[idx][idx] + eps)) * gradient\n",
        "      \n",
        "        self.cost_history[i] = self.compute_cost(X, y)\n",
        "\n",
        "    return self.theta, self.cost_history\n",
        "\n",
        "\n",
        "  def predict(self, X,theta):\n",
        "    X = self.add_ones(X.values)\n",
        "    ypred = np.dot(X,self.theta)\n",
        "    return ypred\n",
        "    \n",
        "\n",
        "  def mse(self, y,yPred):\n",
        "    mse =  np.sum((yPred - y) ** 2 ) / 2\n",
        "    return mse\n",
        "\n",
        "  def Plot(self,loss_history):\n",
        "    plt.figure()\n",
        "    plt.plot(np.arange(self.epoch), loss_history, c='green')\n",
        "    plt.xlabel('Iterations')\n",
        "    plt.ylabel\n",
        "\n",
        "  def accuracy(self,ytrue,ypred):\n",
        "    acc = np.sum(np.equal(ytrue,ypred)) / len(ytrue)\n",
        "    return acc\n"
      ],
      "metadata": {
        "id": "QNIh-XA0eXBe"
      },
      "execution_count": 806,
      "outputs": []
    },
    {
      "cell_type": "code",
      "source": [
        "adagrad = Adagrad(0.9,2000)"
      ],
      "metadata": {
        "id": "GR2Zn-mwedZl"
      },
      "execution_count": 807,
      "outputs": []
    },
    {
      "cell_type": "code",
      "source": [
        "theta,loss_history3 = adagrad.fitadagrad(X_train,Y_train)"
      ],
      "metadata": {
        "id": "U2Bftbdmei5k"
      },
      "execution_count": 809,
      "outputs": []
    },
    {
      "cell_type": "code",
      "source": [
        "adagrad.Plot(loss_history3)"
      ],
      "metadata": {
        "colab": {
          "base_uri": "https://localhost:8080/",
          "height": 310
        },
        "id": "PuHyk_lWerjP",
        "outputId": "d56ed9ff-4231-4a38-9e36-9877fbde2164"
      },
      "execution_count": 810,
      "outputs": [
        {
          "output_type": "display_data",
          "data": {
            "text/plain": [
              "<Figure size 432x288 with 1 Axes>"
            ],
            "image/png": "[encoded data removed]"
          },
          "metadata": {
            "needs_background": "light"
          }
        }
      ]
    },
    {
      "cell_type": "code",
      "source": [
        "class Adadelta:\n",
        "\n",
        "  def __init__(self, lr, epoch):\n",
        "    self.lr = lr\n",
        "    self.epoch = epoch\n",
        "\n",
        "    self.theta = None\n",
        "\n",
        "  \n",
        "\n",
        "  def add_ones(self,X):\n",
        "    X_new = np.hstack([np.ones((X.shape[0], 1)), X])\n",
        "    return X_new\n",
        "\n",
        "  def compute_cost(self, X, y):\n",
        "    loss = float((np.sum((X.dot(self.theta) - y) ** 2) ))/ 2\n",
        "    return loss\n",
        "\n",
        "    \n",
        "            \n",
        "  def fitadadelta(self, X, y, decay_factor = 0.9, eps=0.0000001):\n",
        "    X = self.add_ones(X.values)\n",
        "    self.theta = np.zeros(X.shape[1])\n",
        "    self.cost_history = np.zeros(self.epoch)        \n",
        "      \n",
        "    # Init Running Averages\n",
        "    num_param = len(self.theta)\n",
        "    E_g = [0 for _ in range(num_param)]\n",
        "    E_p = [0 for _ in range(num_param)]\n",
        "    delta_p = [0 for _ in range(num_param)]\n",
        "    \n",
        "    \n",
        "    for i in range(self.epoch):\n",
        "      \n",
        "      for idx, gradient in enumerate((X.T @ (X @ self.theta - y))):\n",
        "        # Get the running average for the gradient\n",
        "        E_g[idx] = decay_factor*E_g[idx] + (1 - decay_factor)*(gradient**2)\n",
        "        \n",
        "        # Get the running average for the parameters\n",
        "        E_p[idx] = decay_factor*E_p[idx] + ((1 - decay_factor)*(delta_p[idx]**2))\n",
        "        \n",
        "        # Calculate the gradient difference\n",
        "        delta_p[idx] = - np.sqrt(E_p[idx] + eps) / np.sqrt(E_g[idx] + eps) * gradient\n",
        "        \n",
        "        # update the model weight\n",
        "        self.theta[idx] = self.theta[idx] + delta_p[idx]\n",
        "\n",
        "        self.cost_history[i] = self.compute_cost(X, y)\n",
        "\n",
        "    return self.theta, self.cost_history\n",
        "\n",
        "  def predict(self, X):\n",
        "    X = self.add_ones(X.values)\n",
        "    ypred = np.dot(X,self.theta)\n",
        "    return ypred\n",
        "    \n",
        "\n",
        "  def mse(self, y,yPred):\n",
        "    mse =  np.sum((yPred - y) ** 2 ) / 2\n",
        "    return mse\n",
        "\n",
        "  def Plot(self,loss_history):\n",
        "    plt.figure()\n",
        "    plt.plot(np.arange(self.epoch), loss_history, c='green')\n",
        "    plt.xlabel('Iterations')\n",
        "    plt.ylabel"
      ],
      "metadata": {
        "id": "oB29dwK7e4JA"
      },
      "execution_count": 633,
      "outputs": []
    },
    {
      "cell_type": "code",
      "source": [
        "adadelta = Adadelta(2e-4, 2000)"
      ],
      "metadata": {
        "id": "KHbUhy2Oe85p"
      },
      "execution_count": 634,
      "outputs": []
    },
    {
      "cell_type": "code",
      "source": [
        "_,loss_history4 = adadelta.fitadadelta(X_train,Y_train)"
      ],
      "metadata": {
        "id": "Cbk3zeX7fH8T"
      },
      "execution_count": 635,
      "outputs": []
    },
    {
      "cell_type": "code",
      "source": [
        "adadelta.Plot(loss_history4)"
      ],
      "metadata": {
        "colab": {
          "base_uri": "https://localhost:8080/",
          "height": 311
        },
        "id": "eMp_IPnIfSA9",
        "outputId": "ed1fcaf0-453f-484e-af3a-660ae27f0a04"
      },
      "execution_count": 636,
      "outputs": [
        {
          "output_type": "display_data",
          "data": {
            "text/plain": [
              "<Figure size 432x288 with 1 Axes>"
            ],
            "image/png": "[encoded data removed]"
          },
          "metadata": {
            "needs_background": "light"
          }
        }
      ]
    },
    {
      "cell_type": "code",
      "source": [
        "class Momentum:\n",
        "  def __init__(self, lr, epoch):\n",
        "    self.lr = lr\n",
        "    self.epoch = epoch\n",
        "\n",
        "    self.theta = None\n",
        "\n",
        "  \n",
        "\n",
        "  def add_ones(self,X):\n",
        "    #self.X = X\n",
        "    X_new = np.hstack([np.ones((X.shape[0], 1)), X])\n",
        "    return X_new\n",
        "\n",
        "  def compute_cost(self, X, y):\n",
        "    loss =((np.sum((X.dot(self.theta) - y) ** 2) ))/ 2\n",
        "    return loss\n",
        "\n",
        "    \n",
        "            \n",
        "  def fitmomentun(self, X, y, decay_factor = 0.9):\n",
        "    X = self.add_ones(X.values)\n",
        "    self.theta = np.zeros(X.shape[1])\n",
        "    self.cost_history = np.zeros(self.epoch)       \n",
        "\n",
        "    # Create the gradient that we keep track as an array of 0 of the same size as the number of weights\n",
        "    gradients = [0 for _ in range(len(self.theta))]\n",
        "    \n",
        "    for i in range(self.epoch):\n",
        "\n",
        "        # Calculate the new gradients\n",
        "        gradients = [(decay_factor * g) + (self.lr * derivative) for g, derivative in zip(gradients, (X.T @ (X @ self.theta - y)))]\n",
        "        \n",
        "        # Updating the model parameters\n",
        "        self.theta = [theta - g for theta, g in zip(self.theta, gradients)]\n",
        "\n",
        "        self.cost_history[i] = self.compute_cost(X, y)\n",
        "\n",
        "    return self.theta, self.cost_history\n",
        "\n",
        "  def predict(self, X):\n",
        "    X = self.add_ones(X.values)\n",
        "    ypred = np.dot(X,self.theta)\n",
        "    return ypred\n",
        "    \n",
        "\n",
        "  def mse(self, y,yPred):\n",
        "    mse =  np.sum((yPred - y) ** 2 ) / 2\n",
        "    return mse\n",
        "\n",
        "  def Plot(self,loss_history):\n",
        "    plt.figure()\n",
        "    plt.plot(np.arange(self.epoch), loss_history, c='green')\n",
        "    plt.xlabel('Iterations')\n",
        "    plt.ylabel\n",
        "\n",
        "\n",
        "\n",
        "  def accuracy(self,ytrue,ypred):\n",
        "    acc = np.sum(np.equal(ytrue,ypred)) / len(ytrue)\n",
        "    return acc\n",
        "\n",
        "\n",
        "\n",
        "\n"
      ],
      "metadata": {
        "id": "fkmGEN2Pp8a5"
      },
      "execution_count": 786,
      "outputs": []
    },
    {
      "cell_type": "code",
      "source": [
        "moment = Momentum(2e-4,2000)"
      ],
      "metadata": {
        "id": "CHp6vMDNBQ0_"
      },
      "execution_count": 787,
      "outputs": []
    },
    {
      "cell_type": "code",
      "source": [
        "_,loss_history5 = moment.fitmomentun(X_train, Y_train)"
      ],
      "metadata": {
        "id": "4K99s3jNBYfK"
      },
      "execution_count": 788,
      "outputs": []
    },
    {
      "cell_type": "code",
      "source": [
        "moment.Plot(loss_history5)"
      ],
      "metadata": {
        "colab": {
          "base_uri": "https://localhost:8080/",
          "height": 310
        },
        "id": "OACw8_u7B7er",
        "outputId": "5c4f8200-4637-4119-f3ce-d81973fe8163"
      },
      "execution_count": 789,
      "outputs": [
        {
          "output_type": "display_data",
          "data": {
            "text/plain": [
              "<Figure size 432x288 with 1 Axes>"
            ],
            "image/png": "[encoded data removed]"
          },
          "metadata": {
            "needs_background": "light"
          }
        }
      ]
    },
    {
      "cell_type": "code",
      "source": [
        "epochs = np.arange(2000)\n",
        "plt.plot(epochs, loss_history1, label = \"RMSProp\")\n",
        "plt.plot(epochs, loss_history2, label = \"Adam\")\n",
        "plt.plot(epochs, loss_history3, label = \"Adagrad\")\n",
        "plt.plot(epochs, loss_history4, label = \"Adadelta\")\n",
        "plt.plot(epochs, loss_history5, label = \"Momentum\")\n",
        "plt.legend()\n",
        "plt.show()"
      ],
      "metadata": {
        "colab": {
          "base_uri": "https://localhost:8080/",
          "height": 296
        },
        "id": "3PeWUocyfdMd",
        "outputId": "008781e2-0bc6-44dd-c2a7-e58240f6ecf1"
      },
      "execution_count": 777,
      "outputs": [
        {
          "output_type": "display_data",
          "data": {
            "text/plain": [
              "<Figure size 432x288 with 1 Axes>"
            ],
            "image/png": "[encoded data removed]"
          },
          "metadata": {
            "needs_background": "light"
          }
        }
      ]
    },
    {
      "cell_type": "code",
      "source": [
        ""
      ],
      "metadata": {
        "id": "9nEj_S_EOud8"
      },
      "execution_count": null,
      "outputs": []
    }
  ]
}